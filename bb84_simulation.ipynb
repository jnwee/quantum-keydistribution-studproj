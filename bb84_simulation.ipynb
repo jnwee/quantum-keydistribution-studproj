{
 "cells": [
  {
   "cell_type": "markdown",
   "metadata": {},
   "source": [
    "# BB84 Quantum Key Distribution Simulation\n",
    "This notebook demonstrates the BB84 protocol for Quantum Key Distribution (QKD) using Qiskit. It explains the steps involved in the protocol and shows how Qiskit can be used to simulate this process."
   ]
  },
  {
   "cell_type": "markdown",
   "metadata": {},
   "source": [
    "## Introduction\n",
    "The BB84 protocol is one of the most well-known quantum cryptographic protocols, introduced by Charles Bennett and Gilles Brassard in 1984. It allows two parties, Alice and Bob, to share a cryptographic key securely."
   ]
  },
  {
   "cell_type": "code",
   "execution_count": 34,
   "metadata": {},
   "outputs": [],
   "source": [
    "from qiskit import QuantumCircuit, transpile\n",
    "from qiskit_aer import AerSimulator\n",
    "import numpy as np"
   ]
  },
  {
   "cell_type": "markdown",
   "metadata": {},
   "source": [
    "### Step 1: Alice Prepares the Qubits\n",
    "Alice generates a random string of bits and chooses random bases (rectilinear or diagonal) for each qubit. Based on these, Alice prepares the qubits."
   ]
  },
  {
   "cell_type": "code",
   "execution_count": 35,
   "metadata": {},
   "outputs": [],
   "source": [
    "def prepare_qubits(bits, bases):\n",
    "    qubits = []\n",
    "    for bit, basis in zip(bits, bases):\n",
    "        qc = QuantumCircuit(1, 1)\n",
    "        if bit == 1:\n",
    "            qc.x(0)\n",
    "        if basis == 1:\n",
    "            qc.h(0)\n",
    "        qubits.append(qc)\n",
    "    return qubits"
   ]
  },
  {
   "cell_type": "markdown",
   "metadata": {},
   "source": [
    "### Step 2: Bob Measures the Qubits\n",
    "Bob randomly chooses a basis for each qubit and measures it."
   ]
  },
  {
   "cell_type": "code",
   "execution_count": 36,
   "metadata": {},
   "outputs": [],
   "source": [
    "def measure_qubits(qubits, bases):\n",
    "    measurements = []\n",
    "    simulator = AerSimulator()\n",
    "\n",
    "    for qc, basis in zip(qubits, bases):\n",
    "        if qc.num_qubits < 1 or qc.num_clbits < 1:\n",
    "            raise ValueError(\"QuantumCircuit muss mindestens 1 Qubit und 1 klassisches Bit haben.\")\n",
    "        \n",
    "        if basis == 1:\n",
    "            qc.h(0)\n",
    "        \n",
    "        qc.measure(0, 0)\n",
    "        \n",
    "        compiled_circuit = transpile(qc, simulator)\n",
    "        \n",
    "        sim_result = simulator.run(compiled_circuit, shots=1).result()\n",
    "        counts = sim_result.get_counts()\n",
    "        \n",
    "        measured_bit = max(counts, key=counts.get)\n",
    "        measurements.append(int(measured_bit))\n",
    "    \n",
    "    return measurements"
   ]
  },
  {
   "cell_type": "markdown",
   "metadata": {},
   "source": [
    "### Simulation Parameters\n",
    "We set the number of qubits, generate random bit strings, and run the simulation."
   ]
  },
  {
   "cell_type": "code",
   "execution_count": 37,
   "metadata": {},
   "outputs": [],
   "source": [
    "np.random.seed(42)\n",
    "n = 10  # Number of qubits\n",
    "alice_bits = np.random.randint(2, size=n)\n",
    "alice_bases = np.random.randint(2, size=n)\n",
    "bob_bases = np.random.randint(2, size=n)\n",
    "\n",
    "alice_qubits = prepare_qubits(alice_bits, alice_bases)\n",
    "bob_measurements =  measure_qubits(alice_qubits, bob_bases)"
   ]
  },
  {
   "cell_type": "markdown",
   "metadata": {},
   "source": [
    "### Key Comparison\n",
    "Alice and Bob compare their bases to establish a shared key."
   ]
  },
  {
   "cell_type": "code",
   "execution_count": 38,
   "metadata": {},
   "outputs": [
    {
     "name": "stdout",
     "output_type": "stream",
     "text": [
      "Alices Bits:      [0 1 0 0 0 1 0 0 0 1]\n",
      "Alices Bases:     [0 0 0 0 1 0 1 1 1 0]\n",
      "Bobs Bases:       [1 0 1 1 1 1 1 1 1 1]\n",
      "Bobs Measurements: [1, 1, 0, 0, 0, 0, 0, 0, 0, 0]\n",
      "Shared Key:        [1, 0, 0, 0, 0]\n"
     ]
    }
   ],
   "source": [
    "key_agreement = [ab == bb for ab, bb in zip(alice_bases, bob_bases)]\n",
    "shared_key = [bm for ka, bm in zip(key_agreement, bob_measurements) if ka]\n",
    "\n",
    "print('Alices Bits:     ', alice_bits)\n",
    "print('Alices Bases:    ', alice_bases)\n",
    "print('Bobs Bases:      ', bob_bases)\n",
    "print('Bobs Measurements:', bob_measurements)\n",
    "print('Shared Key:       ', shared_key)"
   ]
  }
 ],
 "metadata": {
  "kernelspec": {
   "display_name": "quantum_env",
   "language": "python",
   "name": "python3"
  },
  "language_info": {
   "codemirror_mode": {
    "name": "ipython",
    "version": 3
   },
   "file_extension": ".py",
   "mimetype": "text/x-python",
   "name": "python",
   "nbconvert_exporter": "python",
   "pygments_lexer": "ipython3",
   "version": "3.12.1"
  }
 },
 "nbformat": 4,
 "nbformat_minor": 4
}
