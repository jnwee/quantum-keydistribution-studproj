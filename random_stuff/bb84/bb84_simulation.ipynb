{
 "cells": [
  {
   "cell_type": "markdown",
   "metadata": {},
   "source": [
    "\n",
    "# Der BB84 Quanten-Kryptographie-Algorithmus\n",
    "Quanten-Schlüsselaustausch mit Qiskit\n",
    "Stellen wir uns vor, dass zwei Personen, Alice und Bob, über ein unsicheres Medium wie das Internet kommunizieren möchten. Alice möchte eine geheime Nachricht an Bob senden. Da das Internet öffentlich zugänglich ist und jeder die Kommunikation abfangen könnte, muss ein spezielles Verschlüsselungsverfahren entwickelt werden, damit nur Bob mit einem speziellen \"Schlüssel\" Zugriff auf Alices Nachricht hat.\n",
    "\n",
    "In diesem Kontext betrachten wir den BB84-Algorithmus. Dies ist ein symmetrisches Verfahren zur Schlüsselaustauschverteilung, das Alice ermöglicht, ihre Nachricht sicher an Bob zu übermitteln. Der BB84-Algorithmus nutzt die Prinzipien der Quantenmechanik, um eine sichere Schlüsselverteilung zu gewährleisten.\n",
    "\n",
    "Notwendige Bibliotheken importieren\n",
    "Um den Algorithmus zu implementieren, verwenden wir Qiskit, eine Open-Source-Softwareentwicklung für Quantencomputing. Zu Beginn müssen wir die benötigten Bibliotheken importieren:"
   ]
  },
  {
   "cell_type": "code",
   "execution_count": 201,
   "metadata": {},
   "outputs": [],
   "source": [
    "from qiskit import QuantumCircuit, transpile\n",
    "from qiskit_aer import AerSimulator\n",
    "import numpy as np\n",
    "%matplotlib inline"
   ]
  },
  {
   "cell_type": "markdown",
   "metadata": {},
   "source": [
    "### Verschlüsselung mithilfe von Quantenkryptographie\n",
    "\n",
    "![credit:norwegiancreations.com](https://raw.githubusercontent.com/jnwee/quantum-keydistribution-studproj/refs/heads/main/bb84.png?token=GHSAT0AAAAAACZQACJD5VXPTNROQFWHDZBSZ2ZPRFQ)\n",
    "\n",
    "#### Quanten- und klassische Kanäle\n",
    "- **Klassischer Kanal:** Ein klassischer Kommunikationskanal könnte eine Telefonleitung oder ein Netzwerkdraht sein, bei dem elektrische Signale Bits oder codierte Informationen darstellen. \n",
    "- **Quantenkanal:** Ein Quantenkommunikationskanal wird häufig durch Glasfaserkabel realisiert, da Quantenkryptographie über Polarisationszustände von Photonen implementiert wird. Diese Zustände repräsentieren Qubits.\n",
    "\n",
    "---\n",
    "\n",
    "### Schritt 1: Generieren von Binärstrings\n",
    "\n",
    "Alice erzeugt zwei zufällige Binärstrings:\n",
    "1. **Zustands-String:** Dieser String enthält die Zustände der Qubits (0 oder 1).\n",
    "2. **Basis-String:** Dieser String gibt an, welche Basis (computational oder Hadamard) zur Kodierung der Qubits verwendet wird.\n",
    "\n",
    "#### Darstellungen in den Basen\n",
    "- **Hadamard-Basis:**  \n",
    "  $$0\\ wird\\ als\\ \\\\frac{1}{\\sqrt{2}}(|0\\rangle + |1\\rangle)\\ dargestellt$$\n",
    "  $$1\\ wird\\ als\\ \\\\frac{1}{\\sqrt{2}}(|0\\rangle - |1\\rangle)\\ dargestellt$$\n",
    "  - Dies entspricht der Anwendung eines Hadamard-Tores auf die computational Basis $$(|0\\rangle) \\ oder (|1\\rangle)$$\n",
    "- **Computational-Basis:**  \n",
    "  - Bits werden klassisch dargestellt: $$(|0\\rangle)\\ für\\ 0\\ und\\ (|1\\rangle) \\ für\\ 1$$\n",
    "\n",
    "  Hier ist die korrigierte Version für korrekte LaTeX-Darstellungen:\n",
    "\n",
    "---\n",
    "\n",
    "Die Wahl der Basis ist entscheidend, da Bob dieselbe Basis verwenden muss, um die Nachricht korrekt zu entschlüsseln. Nur Bits mit übereinstimmenden Basen werden für die Schlüsselbildung genutzt.\n",
    "\n",
    "---\n",
    "\n",
    "### Beispiel: Alice erstellt zwei Strings\n",
    "Alice generiert:\n",
    "1. Einen **Zustands-String**, der die Qubit-Zustände (0 oder 1) beschreibt.  \n",
    "2. Einen **Basis-String**, der die Kodierungsbasis für jedes Qubit angibt (0 = computational, 1 = Hadamard).  \n",
    "\n",
    "Die Informationen über die verwendete Basis sind entscheidend, damit Bob die Nachricht entschlüsseln kann. Im nächsten Schritt werden die kodierten Qubits über den Quantenkanal gesendet."
   ]
  },
  {
   "cell_type": "code",
   "execution_count": 202,
   "metadata": {},
   "outputs": [
    {
     "name": "stdout",
     "output_type": "stream",
     "text": [
      "Alices Bits:    [0 1 0 0 0 1 0 0 0 1 0 0 0 0 1 0 1 1 1 0 1 0 1 1]\n",
      "Alices Basis:   [1 1 1 1 1 1 0 0 1 1 1 0 1 0 0 0 0 0 1 1 1 1 1 0]\n",
      "Bobs Basis:     [1 1 0 1 0 1 0 1 1 0 0 0 0 0 0 0 0 1 1 0 1 1 1 1]\n"
     ]
    }
   ],
   "source": [
    "np.random.seed(42)\n",
    "n = 24  # Number of qubits\n",
    "alice_bits = np.random.randint(2, size=n)\n",
    "alice_basis = np.random.randint(2, size=n)\n",
    "bob_basis = np.random.randint(2, size=n)\n",
    "\n",
    "key_agreement = [ab == bb for ab, bb in zip(alice_basis, bob_basis)]\n",
    "print('Alices Bits:   ', alice_bits)\n",
    "print('Alices Basis:  ', alice_basis)\n",
    "print('Bobs Basis:    ', bob_basis)"
   ]
  },
  {
   "cell_type": "markdown",
   "metadata": {},
   "source": [
    "### Übersetzung: BB84-Protokoll – Kodierung und Schaltungserstellung\n",
    "\n",
    "#### Kodierung im BB84-Protokoll\n",
    "- Wenn Alices Zustand `1` ist und ihre Basis `0`, bedeutet dies, dass sie die **computational Basis** verwendet, um den Zustand `1` zu kodieren. \n",
    "- Wenn Alices Zustand `1` ist und ihre Basis `1`, bedeutet dies, dass sie das **Hadamard-Tor** verwendet, um den Zustand `1` zu kodieren. Dadurch wird der Zustand in die Superposition versetzt.\n",
    "\n",
    "---\n",
    "\n",
    "### Schritt 2: Erstellen der Schaltung mithilfe des BB84-Protokolls\n",
    "\n",
    "Dieses Protokoll wird verwendet, um eine Quanten-Schaltung zu erstellen:\n",
    "\n",
    "- **Kodierung durch Alice:**\n",
    "  1. Wenn Alice ein `1` in ein Qubit kodieren möchte, wendet sie ein **Pauli-X-Gatter** auf das Qubit an. Das Pauli-X-Gatter ist äquivalent zu einem **NOT-Gatter**, das den Zustand von `0` auf `1` ändert.\n",
    "  2. Wenn Alice ein `0` kodieren möchte, ist keine Aktion erforderlich, da die Qubits in Qiskit standardmäßig auf den Zustand `0` initialisiert sind.\n",
    "  3. Für die Kodierung in der **Hadamard-Basis** wendet Alice ein **Hadamard-Tor** auf das Qubit an. Dies versetzt das Qubit in eine Superposition.\n",
    "  4. Für die Kodierung in der **computational Basis** ist keine weitere Aktion notwendig, da die Standardbasis in Qiskit die computational Basis ist.\n",
    "\n",
    "- **Senden der Qubits:**  \n",
    "  Alice sendet die kodierten Qubits über den Quantenkanal an Bob.\n",
    "\n",
    "---\n",
    "\n",
    "### Messung durch Bob\n",
    "- Bob misst die empfangenen Qubits entsprechend seiner eigenen Binärzeichenkette (Basiswahl):\n",
    "  1. Um ein Qubit in der **Hadamard-Basis** zu messen, wendet Bob zunächst ein **Hadamard-Tor** auf das entsprechende Qubit an. Dadurch wird die Messung in der computational Basis ermöglicht.\n",
    "  2. Anschließend führt Bob die Messung in der **computational Basis** durch, um das Ergebnis zu erhalten.\n",
    "\n",
    "Bob kann anhand der Ergebnisse und durch Abgleich mit Alice die korrekte Schlüsselgenerierung überprüfen."
   ]
  },
  {
   "cell_type": "code",
   "execution_count": 203,
   "metadata": {},
   "outputs": [],
   "source": [
    "def bb84_circuit(state, basis, measurement_basis):\n",
    "   \n",
    "    #state: array of 0s and 1s denoting the state to be encoded\n",
    "    #basis: array of 0s and 1s denoting the basis to be used for encoding\n",
    "                #0 -> Computational Basis\n",
    "                #1 -> Hadamard Basis\n",
    "    #meas_basis: array of 0s and 1s denoting the basis to be used for measurement\n",
    "                #0 -> Computational Basis\n",
    "                #1 -> Hadamard Basis\n",
    "    \n",
    "    num_qubits = len(state)\n",
    "    \n",
    "    bb84_circuit = QuantumCircuit(num_qubits)\n",
    "\n",
    "    # Sender prepares qubits\n",
    "    for i in range(len(basis)):\n",
    "        if state[i] == 1:\n",
    "            bb84_circuit.x(i)\n",
    "        if basis[i] == 1:\n",
    "            bb84_circuit.h(i)\n",
    "   \n",
    "\n",
    "    # Measuring action performed by Bob\n",
    "    for i in range(len(measurement_basis)):\n",
    "        if measurement_basis[i] == 1:\n",
    "            bb84_circuit.h(i)\n",
    "\n",
    "       \n",
    "    bb84_circuit.measure_all()\n",
    "    \n",
    "    return bb84_circuit"
   ]
  },
  {
   "cell_type": "markdown",
   "metadata": {},
   "source": [
    "### Schritt 3: Erstellung des Schlüssels\n",
    "\n",
    "Alice und Bob behalten nur die Bits in ihren Zeichenketten, bei denen die verwendeten Basen übereinstimmen. Zum Beispiel werden Bits nur dann beibehalten, wenn:\n",
    "- Alices Kodierungsbasis `0` ist und Bobs Messbasis ebenfalls `0`, oder\n",
    "- Alices Kodierungsbasis `1` ist und Bobs Messbasis ebenfalls `1`.\n",
    "\n",
    "#### Wahrscheinlichkeit, dass die Basen übereinstimmen\n",
    "Die Wahrscheinlichkeit, dass Alices und Bobs Basen übereinstimmen, beträgt:  \n",
    "- Die Wahrscheinlichkeit, dass Alice die **computational Basis** wählt, ist $$\\frac{1}{2}$$\n",
    "- Die Wahrscheinlichkeit, dass Bob die **computational Basis** wählt, ist ebenfalls $$\\frac{1}{2}$$\n",
    "Daher ist die Wahrscheinlichkeit, dass beide die computational Basis wählen, $$\\frac{1}{2} \\times \\frac{1}{2} = \\frac{1}{4}$$\n",
    "Analog dazu ist die Wahrscheinlichkeit, dass beide die **Hadamard-Basis** wählen, ebenfalls $$\\frac{1}{4}$$\n",
    "\n",
    "Insgesamt ist die Wahrscheinlichkeit, dass die Basen übereinstimmen:  \n",
    "$$ P = \\frac{1}{4} + \\frac{1}{4} = \\frac{1}{2} $$\n",
    "Das bedeutet, dass Alice und Bob in etwa der Hälfte der Fälle übereinstimmende Basen haben werden.\n",
    "\n",
    "---\n",
    "\n",
    "### Schritt 4: Ausführen der Schaltung\n",
    "\n",
    "Alice und Bob vergleichen ihre Basen und behalten nur die Bits, bei denen die Basen übereinstimmen:\n",
    "- Wenn `alice_basis[i] == bob_basis[i]`, wird das entsprechende Bit beibehalten.\n",
    "- Andernfalls wird das Bit verworfen.\n",
    "\n",
    "Dies stellt sicher, dass der endgültige Schlüssel nur aus den Bits besteht, bei denen Alice und Bob sicher sind, dass sie die gleiche Basis verwendet haben."
   ]
  },
  {
   "cell_type": "code",
   "execution_count": 204,
   "metadata": {},
   "outputs": [
    {
     "name": "stdout",
     "output_type": "stream",
     "text": [
      "Key: 111100101001001\n"
     ]
    }
   ],
   "source": [
    "circuit = bb84_circuit(alice_bits, alice_basis, bob_basis)\n",
    "simulator = AerSimulator()\n",
    "compiled_circuit = transpile(circuit, simulator)\n",
    "sim_result = simulator.run(compiled_circuit, shots=1).result()\n",
    "counts = sim_result.get_counts()\n",
    "key = max(counts, key=counts.get)\n",
    "\n",
    "encryption_key = ''\n",
    "for i in range(len(alice_bits)):\n",
    "    if alice_basis[i] == bob_basis[i]:\n",
    "         encryption_key += str(key[i])\n",
    "print(f\"Key: {encryption_key}\")"
   ]
  },
  {
   "cell_type": "markdown",
   "metadata": {},
   "source": [
    "Das ist der Schlüssel, den Bob verwenden kann, um eine Nachricht von Alice zu entschlüsseln."
   ]
  }
 ],
 "metadata": {
  "kernelspec": {
   "display_name": "quantum_env",
   "language": "python",
   "name": "python3"
  },
  "language_info": {
   "codemirror_mode": {
    "name": "ipython",
    "version": 3
   },
   "file_extension": ".py",
   "mimetype": "text/x-python",
   "name": "python",
   "nbconvert_exporter": "python",
   "pygments_lexer": "ipython3",
   "version": "3.12.1"
  }
 },
 "nbformat": 4,
 "nbformat_minor": 4
}
