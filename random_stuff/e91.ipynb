{
 "cells": [
  {
   "cell_type": "markdown",
   "metadata": {},
   "source": [
    "# E91 – Ein interaktives Jupyter Notebook Tutorial\n",
    "\n",
    "In diesem interaktiven Tutorial lernst du Schritt für Schritt:\n",
    "1. **Wie der E91 Algorithmus funktioniert**  \n",
    "2. **Wie die CHSH-Ungleichung funktioniert**  \n",
    "3. **Die Unterschiede zum BB84 Algorithmus**  \n",
    "4. **Wie du mit Qiskit und Bloch-Sphären erste Experimente zur Verschränkung durchführen kannst**  \n",
    "\n",
    "---\n",
    "\n",
    "## Voraussetzungen\n",
    "- Installiertes **Python 3** (empfohlen: ab Version 3.8)\n",
    "- Installiertes **Qiskit** (mindestens `qiskit` Version 0.30+)\n",
    "- Grundlegende Kenntnisse zur Quantenmechanik (Qubits, Verschränkung)\n",
    "- Grundlegende Kenntnisse zum Arbeiten in Jupyter Notebooks\n",
    "\n",
    "---"
   ]
  },
  {
   "cell_type": "markdown",
   "metadata": {},
   "source": [
    "## 1. Setup\n",
    "\n",
    "Führe diese Zelle aus, um sicherzustellen, dass alle benötigten Bibliotheken installiert und importiert sind."
   ]
  },
  {
   "cell_type": "code",
   "metadata": {
    "tags": []
   },
   "source": [
    "# Dies ist eine Code-Zelle im Jupyter Notebook\n",
    "# Installiere Qiskit (falls noch nicht geschehen)\n",
    "# !pip install qiskit\n",
    "\n",
    "from qiskit import QuantumCircuit, Aer, execute\n",
    "from qiskit.visualization import plot_bloch_multivector, plot_histogram\n",
    "import numpy as np\n",
    "import matplotlib.pyplot as plt\n",
    "\n",
    "# Inline Plot in Jupyter\n",
    "%matplotlib inline\n",
    "\n",
    "# Simulator für Zustände (Statevector-Simulator)\n",
    "state_simulator = Aer.get_backend('statevector_simulator')\n",
    "\n",
    "# Simulator für Messungen (shot-based)\n",
    "qasm_simulator = Aer.get_backend('qasm_simulator')\n",
    "\n",
    "print(\"Setup abgeschlossen. Qiskit und Matplotlib sind importiert.\")"
   ],
   "execution_count": null,
   "outputs": []
  },
  {
   "cell_type": "markdown",
   "metadata": {},
   "source": [
    "## 2. Kurze Wiederholung: Was ist E91?\n",
    "\n",
    "Der **E91-Algorithmus** (Artur Ekert, 1991) ist ein **entanglement-basiertes** Quantenkryptographie-Protokoll. Das Ziel ist es, zwischen zwei Parteien (Alice und Bob) einen **sicheren Schlüssel** auszutauschen. Die Sicherheit wird über **Verschränkung** und die **Verletzung der Bell- bzw. CHSH-Ungleichung** garantiert.\n",
    "\n",
    "### Grundidee:\n",
    "1. **Verschränkte Photonenpaare** werden erzeugt. Jeweils eines der beiden Photonen geht an Alice, das andere an Bob.  \n",
    "2. Alice und Bob messen ihre Photonen in verschiedenen Basen.  \n",
    "3. Durch die **Nicht-Lokalität** (CHSH-Verletzung) können sie sicherstellen, dass kein Abhörversuch unbemerkt bleibt.  \n",
    "4. Stimmt die gemessene Korrelation mit dem erwarteten quantenmechanischen Wert überein, wird ein Großteil der Messwerte verworfen und der Rest dient als **geheimer Schlüssel**.\n",
    "\n",
    "---"
   ]
  },
  {
   "cell_type": "markdown",
   "metadata": {},
   "source": [
    "## 3. E91 Algorithmus Schritt für Schritt\n",
    "\n",
    "### 3.1. Erzeugung und Verteilung verschränkter Zustände\n",
    "Meistens wird ein **Singulett-Zustand** verwendet, z. B.:\n",
    "$$\\vert\\Psi^-\\rangle = \\frac{1}{\\sqrt{2}} (\\vert01\\rangle - \\vert10\\rangle).$$\n",
    "\n",
    "In Qiskit können wir diesen Zustand durch eine einfache Schaltung erzeugen:"
   ]
  },
  {
   "cell_type": "code",
   "metadata": {},
   "source": [
    "# Erzeugung eines singuletten Zustandes in Qiskit\n",
    "\n",
    "# Quanten-Register mit 2 Qubits\n",
    "qc_singlet = QuantumCircuit(2)\n",
    "\n",
    "# Erzeuge Bell-Zustand (z.B. |Φ+>), den wir dann leicht in |Ψ−> umwandeln können\n",
    "qc_singlet.h(0)          # Hadamard-Gatter auf Qubit 0\n",
    "qc_singlet.cx(0, 1)      # CNOT: steuert Qubit 0, Ziel: Qubit 1\n",
    "\n",
    "# Aktuell ist das der Zustand (|00> + |11>) / sqrt(2) = |Φ+>\n",
    "# Um daraus |Ψ−> zu machen (|01> - |10>) / sqrt(2):\n",
    "# Wir können z.B. ein X-Gate auf das zweite Qubit und danach ein Z-Gate auf das zweite Qubit anwenden.\n",
    "qc_singlet.x(1)\n",
    "qc_singlet.z(1)\n",
    "\n",
    "# Schau dir den finalen Zustand an\n",
    "final_state = execute(qc_singlet, state_simulator).result().get_statevector()\n",
    "print(\"Zustandsvektor:\", final_state)\n",
    "\n",
    "# Visualisierung auf Bloch-Sphären (für beide Qubits)\n",
    "plot_bloch_multivector(final_state)"
   ],
   "execution_count": null,
   "outputs": []
  },
  {
   "cell_type": "markdown",
   "metadata": {},
   "source": [
    "**Erklärung**:  \n",
    "- `h(0)` + `cx(0,1)` erzeugt einen Bell-Zustand (Speziell $|\\Phi^+\\rangle$).  \n",
    "- Mit `x(1)` und `z(1)` transformieren wir ihn in $|\\Psi^-\\rangle$.  \n",
    "- Der Singulett-Zustand ($|\\Psi^-\\rangle$) ist ein maximals verschränkter Zustand von zwei Qubits.\n",
    "\n",
    "---"
   ]
  },
  {
   "cell_type": "markdown",
   "metadata": {},
   "source": [
    "### 3.2. Messung in unterschiedlichen Basen\n",
    "Im E91-Protokoll messen Alice und Bob ihre Qubits (Photonen) in **zufälligen** Basen, beispielsweise:\n",
    "- **Basis A**: Z-Basis (Standard-Basis)  \n",
    "- **Basis A'**: X-Basis (Hadamard-Basis)  \n",
    "- **Basis B**: Eine andere, z. B. um 45° rotiert  \n",
    "- **Basis B'**: Noch eine weitere Variante\n",
    "\n",
    "Im klassischen E91-Protokoll werden mindestens drei Basen verwendet, z. B.  \n",
    "- Alice wählt aus $\\{Z, X, Y\\}$  \n",
    "- Bob wählt aus $\\{Z, X, Y\\}$\n",
    "\n",
    "Zur Demonstration nutzen wir hier exemplarisch 2 oder 3 Messbasen.\n",
    "\n",
    "**Beispiel: Messung in Z-Basis vs. X-Basis**"
   ]
  },
  {
   "cell_type": "code",
   "metadata": {},
   "source": [
    "def measure_in_basis(circuit, qubit, basis_label='Z'):\n",
    "    \"\"\"\n",
    "    Misst ein gegebenes Qubit in einer bestimmten Basis.\n",
    "    basis_label kann 'Z' oder 'X' sein.\n",
    "    \"\"\"\n",
    "    if basis_label == 'X':\n",
    "        # Um in X-Basis zu messen, wende H an, dann Z-Basis Messung\n",
    "        circuit.h(qubit)\n",
    "    # Z-Basis Messung (Standard in Qiskit)\n",
    "    circuit.measure(qubit, qubit)\n",
    "    return circuit\n",
    "\n",
    "# Beispiel: Wir messen 1000 Mal\n",
    "# Qubit 0 (Alice) in Z-Basis,\n",
    "# Qubit 1 (Bob) in X-Basis\n",
    "shots = 1000\n",
    "counts_all = []\n",
    "\n",
    "for basis_bob in ['Z', 'X']:\n",
    "    qc_test = qc_singlet.copy()\n",
    "    # Standardmessung entfernen (die letzten beiden measure-Befehle)\n",
    "    # Die Schaltung qc_singlet hat am Ende 2 Mess-Operationen.\n",
    "    qc_test.data = qc_test.data[:-2]\n",
    "    # Sicherstellen, dass das klassische Register noch existiert\n",
    "    qc_test.add_register(qc_test.cregs[0])\n",
    "\n",
    "    # Alice misst in Z-Basis\n",
    "    qc_test = measure_in_basis(qc_test, 0, 'Z')\n",
    "    # Bob misst in 'Z' oder 'X'-Basis\n",
    "    qc_test = measure_in_basis(qc_test, 1, basis_bob)\n",
    "\n",
    "    # Führe Messung durch\n",
    "    result = execute(qc_test, qasm_simulator, shots=shots).result()\n",
    "    counts = result.get_counts(qc_test)\n",
    "    counts_all.append((basis_bob, counts))\n",
    "\n",
    "for basis, c in counts_all:\n",
    "    print(f\"Basis Bob: {basis}, Ergebnis: {c}\")"
   ],
   "execution_count": null,
   "outputs": []
  },
  {
   "cell_type": "markdown",
   "metadata": {},
   "source": [
    "- In einem realen **E91-Protokoll** würden Alice und Bob beide **zufällig** ihre Basen wählen und dann **öffentlich** vergleichen, wer in welchen Basen gemessen hat (ohne die konkreten Messresultate zu verraten).  \n",
    "- Nur Messungen, bei denen beide die **gleiche** Basis gewählt haben, werden für den finalen Schlüssel verwendet (wenn keine Störung festgestellt wurde).\n",
    "\n",
    "---"
   ]
  },
  {
   "cell_type": "markdown",
   "metadata": {},
   "source": [
    "### 3.3. Korrelation und CHSH-Ungleichung\n",
    "Ein Teil der Messungen wird benutzt, um zu überprüfen, ob die **CHSH-Ungleichung** verletzt wird. Das bestätigt die **Nicht-Lokalität** und damit die Sicherheit.\n",
    "\n",
    "#### Die CHSH-Ungleichung\n",
    "Sie prüft die Korrelationen von vier verschiedenen Mess-Einstellungen ($A, A'$, $B, B'$).  \n",
    "Der CHSH-Ausdruck ist:\n",
    "$$ S = E(A, B) - E(A, B') + E(A', B) + E(A', B'), $$\n",
    "wobei nach klassisch-lokalem Realismus $|S| \\le 2$ gelten muss, während die Quantenmechanik einen Wert bis $2\\sqrt{2}$ erlauben kann (sogenannte Tsirelson-Grenze).\n",
    "\n",
    "#### Wie misst man die Korrelation?\n",
    "Wir ordnen den Messresultaten $\\pm 1$ zu und berechnen:\n",
    "$$E(A, B) = \\langle a \\cdot b \\rangle = P(a=b) - P(a\\neq b).$$\n",
    "\n",
    "**Beispielcode für die Berechnung von Korrelationen (CHSH)**:"
   ]
  },
  {
   "cell_type": "code",
   "metadata": {},
   "source": [
    "def calc_expectation(counts, shots):\n",
    "    \"\"\"\n",
    "    Erwartungswert E = (N(0,0) + N(1,1) - N(0,1) - N(1,0)) / shots\n",
    "    Dabei wird für Qubits: 0 => +1, 1 => -1 angesetzt.\n",
    "    \"\"\"\n",
    "    # counts sieht z.B. so aus: {'00': 123, '01': 200, '10': 210, '11': 467}\n",
    "    # In Qiskit ist die Reihenfolge der Bits i.d.R. (qubit N-1 ... qubit 0),\n",
    "    # je nachdem, wie gemessen wird.\n",
    "    \n",
    "    n_00 = counts.get('00', 0)\n",
    "    n_01 = counts.get('01', 0)\n",
    "    n_10 = counts.get('10', 0)\n",
    "    n_11 = counts.get('11', 0)\n",
    "\n",
    "    return (n_00 + n_11 - n_01 - n_10) / shots\n",
    "\n",
    "# Beispiel: Wir messen vier unterschiedliche Einstellungen\n",
    "# (A, B), (A, B'), (A', B), (A', B') und berechnen S\n",
    "# Zur Vereinfachung: A=Z, A'=X, B=Z, B'=X\n",
    "bases = [('Z','Z'), ('Z','X'), ('X','Z'), ('X','X')]\n",
    "shots = 1024\n",
    "\n",
    "S_components = []\n",
    "\n",
    "for (basis_a, basis_b) in bases:\n",
    "    qc_chsh = qc_singlet.copy()\n",
    "    # Alte Messungen entfernen\n",
    "    qc_chsh.data = qc_chsh.data[:-2]\n",
    "    # Neue Messungen\n",
    "    qc_chsh = measure_in_basis(qc_chsh, 0, basis_a)\n",
    "    qc_chsh = measure_in_basis(qc_chsh, 1, basis_b)\n",
    "\n",
    "    result_chsh = execute(qc_chsh, qasm_simulator, shots=shots).result()\n",
    "    counts_chsh = result_chsh.get_counts(qc_chsh)\n",
    "    E_ab = calc_expectation(counts_chsh, shots)\n",
    "    S_components.append(E_ab)\n",
    "\n",
    "S = S_components[0] - S_components[1] + S_components[2] + S_components[3]\n",
    "print(\"S:\", S)"
   ],
   "execution_count": null,
   "outputs": []
  },
  {
   "cell_type": "markdown",
   "metadata": {},
   "source": [
    "Wenn $|S| > 2$, ist die **CHSH-Ungleichung verletzt** – ein Beweis für **Nicht-Lokalität**.  \n",
    "In idealen Simulationen (ohne Rauschen) kann man sich Werten bis $2\\sqrt{2} \\approx 2.828$ nähern.\n",
    "\n",
    "---\n",
    "### 3.4. Schlüsselerzeugung\n",
    "Der nächste Schritt im E91-Protokoll besteht darin, dass:\n",
    "1. Alice und Bob **öffentlich** (über einen klassischen Kanal) die Basen austauschen, in denen sie gemessen haben.  \n",
    "2. Sie werfen alle Messwerte weg, bei denen sie **verschiedene** Basen verwendet haben (bzw. behalten genau die Paare für die Schlüsselerzeugung, die in derselben Basis gemessen wurden).  \n",
    "3. Sie führen ggf. **Fehlerkorrektur** (Information Reconciliation) und **Privacy Amplification** durch, um einen **sicheren Schlüssel** zu erhalten.  \n",
    "4. Die Verletzung der **CHSH-Ungleichung** in einer Teilmenge der Messungen dient als **Sicherheits-Garantie**.\n",
    "\n",
    "In einem reinen Coding-Beispiel würde man nun systematisch die Messresultate in denselben Basen filtern und daraus eine Bitfolge ableiten.\n",
    "\n",
    "---"
   ]
  },
  {
   "cell_type": "markdown",
   "metadata": {},
   "source": [
    "## 4. Unterschiede zum BB84 Algorithmus\n",
    "1. **Art der Zustände**  \n",
    "   - **BB84**: Präpariert einzelne Qubits (Photonen) in unterschiedlichen Basen (z. B. Z und X).  \n",
    "   - **E91**: Verwendet **verschlüsselte (verschränkte) Teilchenpaare** und überprüft deren Korrelation durch Bell-Tests (CHSH).  \n",
    "\n",
    "2. **Erkennung von Abhörern**  \n",
    "   - **BB84**: Stellt Störungen fest, indem man eine Testmenge in bekannter Basis misst und die Fehlerrate bestimmt.  \n",
    "   - **E91**: Überprüft explizit die **Verletzung** der Bell-/CHSH-Ungleichung, um auf Abhöraktivitäten zu schließen.  \n",
    "\n",
    "3. **Praktische Umsetzung**  \n",
    "   - **BB84**: Etwas einfacher in der experimentellen Umsetzung (man braucht „nur“ Einzelphotonquellen und -detektoren).  \n",
    "   - **E91**: Benötigt **Verschränkungsquellen**, ist aufwendiger, hat aber eine besonders elegante theoretische Begründung (direkt aus der Nicht-Lokalität).\n",
    "\n",
    "---"
   ]
  },
  {
   "cell_type": "markdown",
   "metadata": {},
   "source": [
    "## 5. Was bedeutet das in der „Realität“?\n",
    "- **Photonen** werden oft via **Spontane Parametrische Fluoreszenz** (SPDC) in Kristallen erzeugt – so entstehen verschränkte Photonenpaare.  \n",
    "- **Alice** und **Bob** sind räumlich getrennt (z. B. 100m oder viele Kilometer durch Glasfaserleitungen), jedes Photon reist zu einer Messstation.  \n",
    "- Die Messungen geschehen dort mit **Polarisationsfiltern** oder **phasenschiebenden Elementen**, die verschiedene Basis-Einstellungen abbilden.  \n",
    "- Treten **Verluste** und **Rauschen** auf, verringert sich die gemessene **CHSH-Verletzung**.  \n",
    "- Liegt sie dennoch signifikant über dem klassischen Grenzwert (2), so gilt das System noch als sicher.\n",
    "\n",
    "---"
   ]
  },
  {
   "cell_type": "markdown",
   "metadata": {},
   "source": [
    "## 6. Fazit\n",
    "Mit dem **E91-Protokoll** wird deutlich, wie man mithilfe von **Verschränkung** und **CHSH-Tests** einen sicheren quantenmechanischen Schlüssel verteilen kann. Die Sicherheit beruht auf der **Nicht-Lokalität** der Quantenmechanik: Ein Angreifer kann nicht ohne Störung in das System eingreifen, da sonst die charakteristische **CHSH-Verletzung** verschwindet.\n",
    "\n",
    "BB84 und E91 sind die beiden **bekanntesten** QKD-Protokolle. Während BB84 meist einfacher umzusetzen ist, besitzt E91 durch seine direkte Verwendung von **Bell-Tests** einen ganz besonderen, fundamentalen Charme in der Quantenkryptographie.\n",
    "\n",
    "**Weiterführende Übung**:\n",
    "- Probiere aus, verschiedene Rotationen (z. B. Y-Basis, d. h. ein S-Gate gefolgt von einem H-Gate zur Messung) in Qiskit zu implementieren.  \n",
    "- Berechne den CHSH-Wert für unterschiedliche Einstellungen.  \n",
    "- Versuche, dich an die theoretisch maximal mögliche Verletzung $|S| = 2\\sqrt{2}$ heranzutasten.\n",
    "\n",
    "---\n",
    "**Ende des interaktiven Tutorials**"
   ]
  }
 ],
 "metadata": {
  "name": "E91_Tutorial",
  "kernelspec": {
   "name": "python3",
   "display_name": "Python 3",
   "language": "python"
  },
  "language_info": {
   "name": "python",
   "mimetype": "text/x-python",
   "file_extension": ".py"
  }
 },
 "nbformat": 4,
 "nbformat_minor": 4
}
